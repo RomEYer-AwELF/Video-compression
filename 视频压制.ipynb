{
  "nbformat": 4,
  "nbformat_minor": 0,
  "metadata": {
    "colab": {
      "name": "视频压制.ipynb",
      "provenance": [],
      "collapsed_sections": [],
      "authorship_tag": "ABX9TyOgzUzmA2Z97nA0c91/8580",
      "include_colab_link": true
    },
    "kernelspec": {
      "name": "python3",
      "display_name": "Python 3"
    },
    "accelerator": "GPU"
  },
  "cells": [
    {
      "cell_type": "markdown",
      "metadata": {
        "id": "view-in-github",
        "colab_type": "text"
      },
      "source": [
        "<a href=\"https://colab.research.google.com/github/RomEYer-AwELF/Video-compression/blob/master/%E8%A7%86%E9%A2%91%E5%8E%8B%E5%88%B6.ipynb\" target=\"_parent\"><img src=\"https://colab.research.google.com/assets/colab-badge.svg\" alt=\"Open In Colab\"/></a>"
      ]
    },
    {
      "cell_type": "markdown",
      "metadata": {
        "id": "TF4x8SjSnDeu",
        "colab_type": "text"
      },
      "source": [
        "## <font color=\"#FA8072\">本Colab脚本用于测试利用 Google Colab 压制视频</font>\n",
        "\n"
      ]
    },
    {
      "cell_type": "code",
      "metadata": {
        "id": "UReZwLuvm_qR",
        "colab_type": "code",
        "colab": {},
        "cellView": "form"
      },
      "source": [
        "#@markdown ### ← 点击此处运行\n",
        "#@markdown ### <font color=\"#FA8072\">挂载 Google Drive 并且安装 FFmpeg</font>\n",
        "#@markdown <font color=\"#95C7AD\">每一次分配 Colab 后，请先运行该步骤（如果有多个视频需要处理且 Colab 未重新分配，则无需再次运行该步骤）</font></br>\n",
        "#@markdown <font color=\"#95C7AD\">在这里挂载 Google Drive 是为直接从其中获取相关文件和视频，并且方便进行压制，同时将完工视频放入 Google Drive 便于取用</font>\n",
        "from google.colab import drive\n",
        "from IPython.display import clear_output\n",
        "print(\"开始挂载GoogleDrive\")\n",
        "drive.mount('/content/drive')\n",
        "clear_output()\n",
        "\n",
        "print(\"创建目录中\")\n",
        "!mkdir /content/drive/\"My Drive\"/video\n",
        "!mkdir /content/drive/\"My Drive\"/video/input\n",
        "!mkdir /content/drive/\"My Drive\"/video/fonts\n",
        "\n",
        "print(\"开始安装FFmpeg\")\n",
        "!pip install FFmpeg\n",
        "!ffmpeg\n",
        "print(\"安装完毕！\")\n",
        "print(\"前置工作完成！！\")"
      ],
      "execution_count": null,
      "outputs": []
    },
    {
      "cell_type": "code",
      "metadata": {
        "id": "U83O9JAdBDmH",
        "colab_type": "code",
        "colab": {},
        "cellView": "form"
      },
      "source": [
        "#@markdown ### ← 点击此处运行\n",
        "#@markdown ### <font color=\"#FA8072\">载入字幕所需字体</font>\n",
        "#@markdown <font color=\"#95C7AD\">请在这里输入字体名称</font><font color=\"#FF0000\">（带后缀）</font></br>\n",
        "#@markdown <font color=\"#95C7AD\" size=\"2px\">已默认插入组内字体样式，可以直接执行，如果需要额外字体样式请自行添加</font>\n",
        "input = \"\" #@param {type: \"string\"}\n",
        "!cp -r /content/drive/\"My Drive\"/video/fonts/\"梅干体（日文）.ttf\" /usr/local/share/fonts/\n",
        "!cp -r /content/drive/\"My Drive\"/video/fonts/\"思源黑体.otf\" /usr/local/share/fonts/\n",
        "!cp -r /content/drive/\"My Drive\"/video/fonts/\"IPA哥特（日文）.ttf\" /usr/local/share/fonts/\n",
        "!cp -r /content/drive/\"My Drive\"/video/fonts/\"思源宋体.otf\" /usr/local/share/fonts/\n",
        "!cp -r /content/drive/\"My Drive\"/video/fonts/\"$input\" /usr/local/share/fonts/\n",
        "!fc-cache /usr/local/share/fonts"
      ],
      "execution_count": 10,
      "outputs": []
    },
    {
      "cell_type": "markdown",
      "metadata": {
        "id": "YL7uou-mwvek",
        "colab_type": "text"
      },
      "source": [
        "### <font color=\"#FA8072\">转换视频格式</font>\n",
        "注意此处默认位置为你的 Google Drive 下的 video/input 文件夹（第一次运行将会自动创建该文件夹），请在完成上一步骤后先将需要转换的视频文件置入该文件夹后再进行操作！"
      ]
    },
    {
      "cell_type": "code",
      "metadata": {
        "id": "fJJE5ogLpYYK",
        "colab_type": "code",
        "colab": {},
        "cellView": "form"
      },
      "source": [
        "#@markdown ### ← 点击此处运行\n",
        "#@markdown <font color=\"#95C7AD\">请在这里输入你的 Google Drive 中 video input 文件夹内的需要处理的视频文件名称</font><font color=\"#FF0000\">（带后缀）</font>\n",
        "input = \"\" #@param {type: \"string\"}\n",
        "#@markdown <font color=\"#95C7AD\">请在这里输入视频处理后的输出名称</font><font color=\"#FF0000\">（带后缀）</font>\n",
        "output = \"\" #@param {type: \"string\"}\n",
        "!mkdir /content/drive/\"My Drive\"/video/output\n",
        "\n",
        "print(\"开始读取视频位置\")\n",
        "!ffmpeg -i /content/drive/\"My Drive\"/video/input/\"$input\" -c:v h264_nvenc /content/drive/\"My Drive\"/video/output/\"$output\"\n"
      ],
      "execution_count": null,
      "outputs": []
    },
    {
      "cell_type": "markdown",
      "metadata": {
        "id": "AIq62CIC8iGW",
        "colab_type": "text"
      },
      "source": [
        "### <font color=\"#FA8072\">压制视频和字幕文件（默认输出mp4）</font>\n",
        "如运行此步骤，则必须先运行“载入字幕所需字体”步骤"
      ]
    },
    {
      "cell_type": "code",
      "metadata": {
        "id": "KPp5tsWC8sLb",
        "colab_type": "code",
        "colab": {},
        "cellView": "form"
      },
      "source": [
        "#@markdown ### ← 点击此处运行\n",
        "#@markdown <font color=\"#95C7AD\">请在这里输入你的 Google Drive 中 video input 文件夹内的需要处理的视频文件名称</font><font color=\"#FF0000\">（带后缀）</font>\n",
        "input = \"\\u82B1\\u306B\\u4EA1\\u970A.mp4\" #@param {type: \"string\"}\n",
        "#@markdown <font color=\"#95C7AD\">请在这里输入你的字幕文件名称</font><font color=\"#FF0000\">（带后缀）</font>\n",
        "ass = \"\\uFF08\\u5DF2\\u6821\\uFF09\\u82B1\\u306B\\u4EA1\\u970A.ass\" #@param {type: \"string\"}\n",
        "#@markdown <font color=\"#95C7AD\">请在这里输入视频处理后的输出名称</font><font color=\"#FF0000\">（不带后缀）</font>\n",
        "output = \"\\u82B1\\u306B\\u4EA1\\u970A\" #@param {type: \"string\"}\n",
        "\n",
        "!mkdir /content/drive/\"My Drive\"/video/output\n",
        "!ffmpeg -i /content/drive/\"My Drive\"/video/input/\"$input\" -vf ass=/content/drive/\"My Drive\"/video/input/\"$ass\" -c:v h264_nvenc /content/drive/\"My Drive\"/video/output/\"$output\".mp4"
      ],
      "execution_count": null,
      "outputs": []
    },
    {
      "cell_type": "markdown",
      "metadata": {
        "id": "NLT4Twod3Xcl",
        "colab_type": "text"
      },
      "source": [
        "### <font color=\"#FA8072\">转化为B站不进行二次压制的视频（默认输出mp4）</font>\n",
        "标准已经完成测试，依照此格式压制后B站不会进行二次压制"
      ]
    },
    {
      "cell_type": "code",
      "metadata": {
        "id": "fRJoLky322-6",
        "colab_type": "code",
        "colab": {},
        "cellView": "form"
      },
      "source": [
        "#@markdown ### ← 点击此处运行\n",
        "#@markdown <font color=\"#95C7AD\">请在这里输入你的 Google Drive 中 video input 文件夹内的需要处理的视频文件名称</font><font color=\"#FF0000\">（带后缀）</font>\n",
        "input = \"\" #@param {type: \"string\"}\n",
        "#@markdown <font color=\"#95C7AD\">请在这里输入视频处理后的输出名称</font><font color=\"#FF0000\">（不带后缀）</font>\n",
        "output = \"\" #@param {type: \"string\"}\n",
        "\n",
        "!mkdir /content/drive/\"My Drive\"/video/output\n",
        "!ffmpeg -i /content/drive/\"My Drive\"/video/input/\"$input\" -b:v 1800k -b:a 192k  -c:v h264_nvenc /content/drive/\"My Drive\"/video/output/\"$output\".mp4"
      ],
      "execution_count": null,
      "outputs": []
    }
  ]
}