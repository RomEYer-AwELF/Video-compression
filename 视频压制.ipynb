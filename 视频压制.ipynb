{
  "nbformat": 4,
  "nbformat_minor": 0,
  "metadata": {
    "colab": {
      "name": "视频压制.ipynb",
      "provenance": [],
      "collapsed_sections": [],
      "authorship_tag": "ABX9TyO5iSHhaX4RLTkuZ9abgJHG",
      "include_colab_link": true
    },
    "kernelspec": {
      "name": "python3",
      "display_name": "Python 3"
    },
    "accelerator": "GPU"
  },
  "cells": [
    {
      "cell_type": "markdown",
      "metadata": {
        "id": "view-in-github",
        "colab_type": "text"
      },
      "source": [
        "<a href=\"https://colab.research.google.com/github/RomEYer-AwELF/Video-compression/blob/master/%E8%A7%86%E9%A2%91%E5%8E%8B%E5%88%B6.ipynb\" target=\"_parent\"><img src=\"https://colab.research.google.com/assets/colab-badge.svg\" alt=\"Open In Colab\"/></a>"
      ]
    },
    {
      "cell_type": "markdown",
      "metadata": {
        "id": "TF4x8SjSnDeu",
        "colab_type": "text"
      },
      "source": [
        "## <font color=\"#FA8072\">本Colab脚本用于测试利用 Google Colab 压制视频</font>\n",
        "\n"
      ]
    },
    {
      "cell_type": "code",
      "metadata": {
        "id": "UReZwLuvm_qR",
        "colab_type": "code",
        "colab": {
          "base_uri": "https://localhost:8080/",
          "height": 574
        },
        "cellView": "form",
        "outputId": "221eb976-453f-42af-f621-2d72ff40ad16"
      },
      "source": [
        "#@markdown ### ← 点击此处运行\n",
        "#@markdown ### <font color=\"#FA8072\">挂载 Google Drive 并且安装 FFmpeg</font>\n",
        "#@markdown <font color=\"#95C7AD\">每一次分配 Colab 后，请先运行该步骤（如果有多个视频需要处理且 Colab 未重新分配，则无需再次运行该步骤）</font></br>\n",
        "#@markdown <font color=\"#95C7AD\">在这里挂载 Google Drive 是为直接从其中获取相关文件和视频，并且方便进行压制，同时将完工视频放入 Google Drive 便于取用</font>\n",
        "from google.colab import drive\n",
        "from IPython.display import clear_output\n",
        "print(\"开始挂载GoogleDrive\")\n",
        "drive.mount('/content/drive')\n",
        "clear_output()\n",
        "\n",
        "print(\"创建目录中\")\n",
        "!mkdir /content/drive/\"My Drive\"/video\n",
        "!mkdir /content/drive/\"My Drive\"/video/input\n",
        "!mkdir /content/drive/\"My Drive\"/video/fonts\n",
        "\n",
        "print(\"开始安装FFmpeg\")\n",
        "!pip install FFmpeg\n",
        "!ffmpeg\n",
        "print(\"安装完毕！\")\n",
        "print(\"前置工作完成！！\")"
      ],
      "execution_count": 1,
      "outputs": [
        {
          "output_type": "stream",
          "text": [
            "创建目录中\n",
            "mkdir: cannot create directory ‘/content/drive/My Drive/video’: File exists\n",
            "mkdir: cannot create directory ‘/content/drive/My Drive/video/input’: File exists\n",
            "mkdir: cannot create directory ‘/content/drive/My Drive/video/fonts’: File exists\n",
            "开始安装FFmpeg\n",
            "Collecting FFmpeg\n",
            "  Downloading https://files.pythonhosted.org/packages/f0/cc/3b7408b8ecf7c1d20ad480c3eaed7619857bf1054b690226e906fdf14258/ffmpeg-1.4.tar.gz\n",
            "Building wheels for collected packages: FFmpeg\n",
            "  Building wheel for FFmpeg (setup.py) ... \u001b[?25l\u001b[?25hdone\n",
            "  Created wheel for FFmpeg: filename=ffmpeg-1.4-cp36-none-any.whl size=6083 sha256=634ea411d835e8b4f5d5958ebc7797cfceea2a44dc091a2ee4ec976bd486aea8\n",
            "  Stored in directory: /root/.cache/pip/wheels/b6/68/c3/a05a35f647ba871e5572b9bbfc0b95fd1c6637a2219f959e7a\n",
            "Successfully built FFmpeg\n",
            "Installing collected packages: FFmpeg\n",
            "Successfully installed FFmpeg-1.4\n",
            "ffmpeg version 3.4.8-0ubuntu0.2 Copyright (c) 2000-2020 the FFmpeg developers\n",
            "  built with gcc 7 (Ubuntu 7.5.0-3ubuntu1~18.04)\n",
            "  configuration: --prefix=/usr --extra-version=0ubuntu0.2 --toolchain=hardened --libdir=/usr/lib/x86_64-linux-gnu --incdir=/usr/include/x86_64-linux-gnu --enable-gpl --disable-stripping --enable-avresample --enable-avisynth --enable-gnutls --enable-ladspa --enable-libass --enable-libbluray --enable-libbs2b --enable-libcaca --enable-libcdio --enable-libflite --enable-libfontconfig --enable-libfreetype --enable-libfribidi --enable-libgme --enable-libgsm --enable-libmp3lame --enable-libmysofa --enable-libopenjpeg --enable-libopenmpt --enable-libopus --enable-libpulse --enable-librubberband --enable-librsvg --enable-libshine --enable-libsnappy --enable-libsoxr --enable-libspeex --enable-libssh --enable-libtheora --enable-libtwolame --enable-libvorbis --enable-libvpx --enable-libwavpack --enable-libwebp --enable-libx265 --enable-libxml2 --enable-libxvid --enable-libzmq --enable-libzvbi --enable-omx --enable-openal --enable-opengl --enable-sdl2 --enable-libdc1394 --enable-libdrm --enable-libiec61883 --enable-chromaprint --enable-frei0r --enable-libopencv --enable-libx264 --enable-shared\n",
            "  libavutil      55. 78.100 / 55. 78.100\n",
            "  libavcodec     57.107.100 / 57.107.100\n",
            "  libavformat    57. 83.100 / 57. 83.100\n",
            "  libavdevice    57. 10.100 / 57. 10.100\n",
            "  libavfilter     6.107.100 /  6.107.100\n",
            "  libavresample   3.  7.  0 /  3.  7.  0\n",
            "  libswscale      4.  8.100 /  4.  8.100\n",
            "  libswresample   2.  9.100 /  2.  9.100\n",
            "  libpostproc    54.  7.100 / 54.  7.100\n",
            "Hyper fast Audio and Video encoder\n",
            "usage: ffmpeg [options] [[infile options] -i infile]... {[outfile options] outfile}...\n",
            "\n",
            "\u001b[0;33mUse -h to get full help or, even better, run 'man ffmpeg'\n",
            "\u001b[0m安装完毕！\n",
            "前置工作完成！！\n"
          ],
          "name": "stdout"
        }
      ]
    },
    {
      "cell_type": "code",
      "metadata": {
        "id": "U83O9JAdBDmH",
        "colab_type": "code",
        "colab": {},
        "cellView": "form"
      },
      "source": [
        "#@markdown ### ← 点击此处运行\n",
        "#@markdown ### <font color=\"#FA8072\">载入字幕所需字体</font>\n",
        "#@markdown <font color=\"#95C7AD\">请在这里输入字体名称</font><font color=\"#FF0000\">（带后缀）</font></br>\n",
        "#@markdown <font color=\"#95C7AD\" size=\"2px\">已默认插入组内字体样式，可以直接执行，如果需要额外字体样式请自行添加</font>\n",
        "input = \"\" #@param {type: \"string\"}\n",
        "!git clone https://github.com/RomEYer-AwELF/Video-compression.git\n",
        "!cp -r /content/Video-compression/fonts/\"梅干体（日文）.ttf\" /usr/local/share/fonts/\n",
        "!cp -r /content/Video-compression/fonts/\"思源黑体.otf\" /usr/local/share/fonts/\n",
        "!cp -r /content/Video-compression/fonts/\"IPA哥特（日文）.ttf\" /usr/local/share/fonts/\n",
        "!cp -r /content/Video-compression/fonts/\"思源宋体.otf\" /usr/local/share/fonts/\n",
        "!cp -r /content/drive/\"My Drive\"/video/fonts/\"$input\" /usr/local/share/fonts/\n",
        "!fc-cache /usr/local/share/fonts"
      ],
      "execution_count": null,
      "outputs": []
    },
    {
      "cell_type": "markdown",
      "metadata": {
        "id": "YL7uou-mwvek",
        "colab_type": "text"
      },
      "source": [
        "### <font color=\"#FA8072\">转换视频格式</font>\n",
        "注意此处默认位置为你的 Google Drive 下的 video/input 文件夹（第一次运行将会自动创建该文件夹），请在完成上一步骤后先将需要转换的视频文件置入该文件夹后再进行操作！"
      ]
    },
    {
      "cell_type": "code",
      "metadata": {
        "id": "fJJE5ogLpYYK",
        "colab_type": "code",
        "colab": {},
        "cellView": "form"
      },
      "source": [
        "#@markdown ### ← 点击此处运行\n",
        "#@markdown <font color=\"#95C7AD\">请在这里输入你的 Google Drive 中 video input 文件夹内的需要处理的视频文件名称</font><font color=\"#FF0000\">（带后缀）</font>\n",
        "input = \"\" #@param {type: \"string\"}\n",
        "#@markdown <font color=\"#95C7AD\">请在这里输入视频处理后的输出名称</font><font color=\"#FF0000\">（带后缀）</font>\n",
        "output = \"\" #@param {type: \"string\"}\n",
        "!mkdir /content/drive/\"My Drive\"/video/output\n",
        "\n",
        "print(\"开始读取视频位置\")\n",
        "!ffmpeg -i /content/drive/\"My Drive\"/video/input/\"$input\" -c:v h264_nvenc /content/drive/\"My Drive\"/video/output/\"$output\" -y\n"
      ],
      "execution_count": null,
      "outputs": []
    },
    {
      "cell_type": "markdown",
      "metadata": {
        "id": "AIq62CIC8iGW",
        "colab_type": "text"
      },
      "source": [
        "### <font color=\"#FA8072\">压制视频和字幕文件（默认输出mp4）</font>\n",
        "如运行此步骤，则必须先运行“载入字幕所需字体”步骤"
      ]
    },
    {
      "cell_type": "code",
      "metadata": {
        "id": "KPp5tsWC8sLb",
        "colab_type": "code",
        "colab": {
          "base_uri": "https://localhost:8080/",
          "height": 1000
        },
        "cellView": "form",
        "outputId": "e922c377-e59a-4bcf-f8dc-59d286d77e03"
      },
      "source": [
        "#@markdown ### ← 点击此处运行\n",
        "#@markdown <font color=\"#95C7AD\">请在这里输入你的 Google Drive 中 video input 文件夹内的需要处理的视频文件名称</font><font color=\"#FF0000\">（带后缀）</font>\n",
        "input = \"\\u82B1\\u306B\\u4EA1\\u970A.mp4\" #@param {type: \"string\"}\n",
        "#@markdown <font color=\"#95C7AD\">请在这里输入你的字幕文件名称</font><font color=\"#FF0000\">（带后缀）</font>\n",
        "ass = \"\\uFF08\\u5DF2\\u6821\\uFF09\\u82B1\\u306B\\u4EA1\\u970A.ass\" #@param {type: \"string\"}\n",
        "#@markdown <font color=\"#95C7AD\">请在这里输入视频处理后的输出名称</font><font color=\"#FF0000\">（不带后缀）</font>\n",
        "output = \"\\u82B1\\u306B\\u4EA1\\u970A\" #@param {type: \"string\"}\n",
        "\n",
        "!mkdir /content/drive/\"My Drive\"/video/output\n",
        "!ffmpeg -i /content/drive/\"My Drive\"/video/input/\"$input\" -vf ass=/content/drive/\"My Drive\"/video/input/\"$ass\" -c:v h264_nvenc /content/drive/\"My Drive\"/video/output/\"$output\".mp4 -y"
      ],
      "execution_count": 1,
      "outputs": [
        {
          "output_type": "stream",
          "text": [
            "mkdir: cannot create directory ‘/content/drive/My Drive/video/output’: File exists\n",
            "ffmpeg version 3.4.8-0ubuntu0.2 Copyright (c) 2000-2020 the FFmpeg developers\n",
            "  built with gcc 7 (Ubuntu 7.5.0-3ubuntu1~18.04)\n",
            "  configuration: --prefix=/usr --extra-version=0ubuntu0.2 --toolchain=hardened --libdir=/usr/lib/x86_64-linux-gnu --incdir=/usr/include/x86_64-linux-gnu --enable-gpl --disable-stripping --enable-avresample --enable-avisynth --enable-gnutls --enable-ladspa --enable-libass --enable-libbluray --enable-libbs2b --enable-libcaca --enable-libcdio --enable-libflite --enable-libfontconfig --enable-libfreetype --enable-libfribidi --enable-libgme --enable-libgsm --enable-libmp3lame --enable-libmysofa --enable-libopenjpeg --enable-libopenmpt --enable-libopus --enable-libpulse --enable-librubberband --enable-librsvg --enable-libshine --enable-libsnappy --enable-libsoxr --enable-libspeex --enable-libssh --enable-libtheora --enable-libtwolame --enable-libvorbis --enable-libvpx --enable-libwavpack --enable-libwebp --enable-libx265 --enable-libxml2 --enable-libxvid --enable-libzmq --enable-libzvbi --enable-omx --enable-openal --enable-opengl --enable-sdl2 --enable-libdc1394 --enable-libdrm --enable-libiec61883 --enable-chromaprint --enable-frei0r --enable-libopencv --enable-libx264 --enable-shared\n",
            "  libavutil      55. 78.100 / 55. 78.100\n",
            "  libavcodec     57.107.100 / 57.107.100\n",
            "  libavformat    57. 83.100 / 57. 83.100\n",
            "  libavdevice    57. 10.100 / 57. 10.100\n",
            "  libavfilter     6.107.100 /  6.107.100\n",
            "  libavresample   3.  7.  0 /  3.  7.  0\n",
            "  libswscale      4.  8.100 /  4.  8.100\n",
            "  libswresample   2.  9.100 /  2.  9.100\n",
            "  libpostproc    54.  7.100 / 54.  7.100\n",
            "Input #0, mov,mp4,m4a,3gp,3g2,mj2, from '/content/drive/My Drive/video/input/花に亡霊.mp4':\n",
            "  Metadata:\n",
            "    major_brand     : mp42\n",
            "    minor_version   : 0\n",
            "    compatible_brands: mp42mp41\n",
            "    creation_time   : 2020-07-19T02:13:34.000000Z\n",
            "  Duration: 00:04:13.03, start: 0.000000, bitrate: 3218 kb/s\n",
            "    Stream #0:0(eng): Video: h264 (Main) (avc1 / 0x31637661), yuv420p, 1280x720 [SAR 1:1 DAR 16:9], 3024 kb/s, 30 fps, 30 tbr, 30k tbn, 60 tbc (default)\n",
            "    Metadata:\n",
            "      creation_time   : 2020-07-19T02:13:34.000000Z\n",
            "      handler_name    : Alias Data Handler\n",
            "      encoder         : AVC Coding\n",
            "    Stream #0:1(eng): Audio: aac (LC) (mp4a / 0x6134706D), 48000 Hz, stereo, fltp, 189 kb/s (default)\n",
            "    Metadata:\n",
            "      creation_time   : 2020-07-19T02:13:34.000000Z\n",
            "      handler_name    : Alias Data Handler\n",
            "Stream mapping:\n",
            "  Stream #0:0 -> #0:0 (h264 (native) -> h264 (h264_nvenc))\n",
            "  Stream #0:1 -> #0:1 (aac (native) -> aac (native))\n",
            "Press [q] to stop, [?] for help\n",
            "\u001b[1;32m[Parsed_ass_0 @ 0x55e06ea0b9a0] \u001b[0mShaper: FriBidi 0.19.7 (SIMPLE) HarfBuzz-ng 1.7.2 (COMPLEX)\n",
            "\u001b[1;32m[Parsed_ass_0 @ 0x55e06ea0b9a0] \u001b[0mUsing font provider fontconfig\n",
            "\u001b[1;32m[Parsed_ass_0 @ 0x55e06ea0b9a0] \u001b[0mAdded subtitle file: '/content/drive/My Drive/video/input/（已校）花に亡霊.ass' (5 styles, 114 events)\n",
            "Output #0, mp4, to '/content/drive/My Drive/video/output/花に亡霊.mp4':\n",
            "  Metadata:\n",
            "    major_brand     : mp42\n",
            "    minor_version   : 0\n",
            "    compatible_brands: mp42mp41\n",
            "    encoder         : Lavf57.83.100\n",
            "    Stream #0:0(eng): Video: h264 (h264_nvenc) (Main) (avc1 / 0x31637661), yuv420p(progressive), 1280x720 [SAR 1:1 DAR 16:9], q=-1--1, 2000 kb/s, 30 fps, 15360 tbn, 30 tbc (default)\n",
            "    Metadata:\n",
            "      creation_time   : 2020-07-19T02:13:34.000000Z\n",
            "      handler_name    : Alias Data Handler\n",
            "      encoder         : Lavc57.107.100 h264_nvenc\n",
            "    Side data:\n",
            "      cpb: bitrate max/min/avg: 0/0/2000000 buffer size: 4000000 vbv_delay: -1\n",
            "    Stream #0:1(eng): Audio: aac (LC) (mp4a / 0x6134706D), 48000 Hz, stereo, fltp, 128 kb/s (default)\n",
            "    Metadata:\n",
            "      creation_time   : 2020-07-19T02:13:34.000000Z\n",
            "      handler_name    : Alias Data Handler\n",
            "      encoder         : Lavc57.107.100 aac\n",
            "\u001b[1;32m[Parsed_ass_0 @ 0x55e06ea0b9a0] \u001b[0mfontselect: (思源黑体 CN Bold, 700, 0) -> /usr/local/share/fonts/思源黑体.otf, 0, SourceHanSansCN-Bold\n",
            "frame= 7590 fps=158 q=26.0 Lsize=   66460kB time=00:04:13.01 bitrate=2151.8kbits/s speed=5.27x    \n",
            "video:62307kB audio:3938kB subtitle:0kB other streams:0kB global headers:0kB muxing overhead: 0.323897%\n",
            "\u001b[1;36m[aac @ 0x55e06eeda000] \u001b[0mQavg: 919.227\n"
          ],
          "name": "stdout"
        }
      ]
    },
    {
      "cell_type": "markdown",
      "metadata": {
        "id": "NLT4Twod3Xcl",
        "colab_type": "text"
      },
      "source": [
        "### <font color=\"#FA8072\">转化为B站不进行二次压制的视频（默认输出mp4）</font>\n",
        "标准已经完成测试，依照此格式压制后B站不会进行二次压制"
      ]
    },
    {
      "cell_type": "code",
      "metadata": {
        "id": "fRJoLky322-6",
        "colab_type": "code",
        "colab": {},
        "cellView": "form"
      },
      "source": [
        "#@markdown ### ← 点击此处运行\n",
        "#@markdown <font color=\"#95C7AD\">请在这里输入你的 Google Drive 中 video input 文件夹内的需要处理的视频文件名称</font><font color=\"#FF0000\">（带后缀）</font>\n",
        "input = \"\" #@param {type: \"string\"}\n",
        "#@markdown <font color=\"#95C7AD\">请在这里输入视频处理后的输出名称</font><font color=\"#FF0000\">（不带后缀）</font>\n",
        "output = \"\" #@param {type: \"string\"}\n",
        "\n",
        "!mkdir /content/drive/\"My Drive\"/video/output\n",
        "!ffmpeg -i /content/drive/\"My Drive\"/video/input/\"$input\" -b:v 1800k -b:a 192k  -c:v h264_nvenc /content/drive/\"My Drive\"/video/output/\"$output\".mp4 -y"
      ],
      "execution_count": null,
      "outputs": []
    }
  ]
}